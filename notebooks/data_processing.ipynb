{
 "cells": [
  {
   "cell_type": "code",
   "execution_count": null,
   "metadata": {},
   "outputs": [],
   "source": [
    "{\n",
    "    \"prompt_ids\": prompt_ids,\n",
    "    \"prompt_mask\": prompt_mask,\n",
    "    \"completion_ids\": completion_ids,\n",
    "    \"completion_mask\": completion_mask,\n",
    "    \"per_token_logps\": old_per_token_logps,\n",
    "    \"advantages\": advantages,\n",
    "}"
   ]
  },
  {
   "cell_type": "code",
   "execution_count": null,
   "metadata": {},
   "outputs": [
    {
     "name": "stderr",
     "output_type": "stream",
     "text": [
      "/home/marcmin/anaconda3/envs/erl/lib/python3.12/site-packages/tqdm/auto.py:21: TqdmWarning: IProgress not found. Please update jupyter and ipywidgets. See https://ipywidgets.readthedocs.io/en/stable/user_install.html\n",
      "  from .autonotebook import tqdm as notebook_tqdm\n",
      "Generating train split: 1111 examples [00:00, 40141.89 examples/s]"
     ]
    },
    {
     "name": "stdout",
     "output_type": "stream",
     "text": [
      "DatasetDict({\n",
      "    train: Dataset({\n",
      "        features: ['problem', 'index', 'demonstration_steps', 'demonstration_tokens', 'advantage', 'q_value', 'value'],\n",
      "        num_rows: 1111\n",
      "    })\n",
      "})\n"
     ]
    },
    {
     "name": "stderr",
     "output_type": "stream",
     "text": [
      "\n"
     ]
    }
   ],
   "source": [
    "from datasets import load_dataset\n",
    "\n",
    "# Path to your uploaded file\n",
    "file_path = \"../collected/Qwen2.5-3B-Instruct_MATH-500/Qwen2.5-3B-Instruct_MATH-500.jsonl\"\n",
    "\n",
    "# Load the dataset\n",
    "dataset = load_dataset(\"json\", data_files=file_path)\n",
    "\n",
    "# Print dataset information\n",
    "print(dataset)"
   ]
  }
 ],
 "metadata": {
  "kernelspec": {
   "display_name": "erl",
   "language": "python",
   "name": "python3"
  },
  "language_info": {
   "codemirror_mode": {
    "name": "ipython",
    "version": 3
   },
   "file_extension": ".py",
   "mimetype": "text/x-python",
   "name": "python",
   "nbconvert_exporter": "python",
   "pygments_lexer": "ipython3",
   "version": "3.12.9"
  }
 },
 "nbformat": 4,
 "nbformat_minor": 2
}
